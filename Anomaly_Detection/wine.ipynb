{
 "cells": [
  {
   "cell_type": "markdown",
   "metadata": {},
   "source": [
    "## Wine_Benchmarks数据集异常检测"
   ]
  },
  {
   "cell_type": "code",
   "execution_count": 12,
   "metadata": {},
   "outputs": [],
   "source": [
    "import pandas as pd\n",
    "import os\n",
    "\n",
    "\n",
    "# 预处理数据\n",
    "def pre_process(data):\n",
    "\n",
    "    data.drop(['point.id', 'motherset', 'origin', 'original.label'], axis=1, inplace=True)\n",
    "    data['ground.truth'] = data['ground.truth'].map({'nominal': 0, 'anomaly': 1})\n",
    "\n",
    "    y = data['ground.truth']\n",
    "    X = data.drop('ground.truth', axis=1)\n",
    "    \n",
    "    return X, y"
   ]
  },
  {
   "cell_type": "markdown",
   "metadata": {},
   "source": [
    "### 定义11种异常检测分类器"
   ]
  },
  {
   "cell_type": "code",
   "execution_count": null,
   "metadata": {},
   "outputs": [],
   "source": [
    "# 定义分类器\n",
    "def load_classifiers(outliers_fraction):\n",
    "    outliers_fraction = min(0.5, outliers_fraction)\n",
    "    random_state = np.random.RandomState(42)\n",
    "    # Define nine outlier detection tools to be compared\n",
    "    classifiers = {\n",
    "    'Angle-based Outlier Detector (ABOD)':\n",
    "            ABOD(contamination=outliers_fraction),\n",
    "    'Cluster-based Local Outlier Factor (CBLOF)':\n",
    "            CBLOF(contamination=outliers_fraction,\n",
    "                      check_estimator=False, random_state=random_state),\n",
    "    'Feature Bagging':\n",
    "            FeatureBagging(LOF(n_neighbors=35),\n",
    "                                       contamination=outliers_fraction,\n",
    "                                       random_state=random_state),\n",
    "    'Histogram-base Outlier Detection (HBOS)': HBOS(\n",
    "            contamination=outliers_fraction),\n",
    "    'Isolation Forest': IForest(contamination=outliers_fraction,\n",
    "                                                            random_state=random_state, behaviour=\"new\"),\n",
    "    'K Nearest Neighbors (KNN)': KNN(\n",
    "            contamination=outliers_fraction),\n",
    "    'Average KNN': KNN(method='mean',\n",
    "                                       contamination=outliers_fraction),\n",
    "    'Local Outlier Factor (LOF)':\n",
    "            LOF(n_neighbors=35, contamination=outliers_fraction),\n",
    "    'Minimum Covariance Determinant (MCD)': MCD(\n",
    "            contamination=outliers_fraction, random_state=random_state),\n",
    "    'One-class SVM (OCSVM)': OCSVM(contamination=outliers_fraction),\n",
    "    'Principal Component Analysis (PCA)': PCA(\n",
    "            contamination=outliers_fraction, random_state=random_state)\n",
    "    }\n",
    "    return classifiers"
   ]
  },
  {
   "cell_type": "markdown",
   "metadata": {},
   "source": [
    "### 加载数据并训练模型"
   ]
  },
  {
   "cell_type": "code",
   "execution_count": null,
   "metadata": {},
   "outputs": [],
   "source": [
    "import pickle\n",
    "from tqdm import tqdm\n",
    "import warnings\n",
    "from sklearn.metrics import roc_auc_score, f1_score, precision_score, recall_score\n",
    "warnings.filterwarnings(\"ignore\")\n",
    "\n",
    "PATH = \"wine/benchmarks\"\n",
    "fns = os.listdir(PATH)\n",
    "\n",
    "for i in tqdm(range(len(fns))):\n",
    "    fn = fns[i]\n",
    "    data = pd.read_csv(os.path.join(PATH, fn))\n",
    "    X, y = pre_process(data)\n",
    "    \n",
    "    outliers_fraction = y.sum()/len(y)\n",
    "    classifiers = load_classifiers(outliers_fraction)\n",
    "    \n",
    "    all_scores = {}\n",
    "    for i, (name, clf) in enumerate(classifiers.items()):\n",
    "        if i==11: # 最后一种方法太耗时，故不使用\n",
    "            continue\n",
    "        clf.fit(X)\n",
    "        y_pred = clf.predict(X)\n",
    "\n",
    "        scores = []\n",
    "        scores.append(roc_auc_score(y, y_pred))\n",
    "        scores.append(f1_score(y, y_pred))\n",
    "        scores.append(precision_score(y, y_pred))\n",
    "        scores.append(recall_score(y, y_pred))\n",
    "        all_scores[name] = scores\n",
    "\n",
    "    with open('result/{}'.format(fn), 'wb') as f:\n",
    "        pickle.dump(all_scores, f)"
   ]
  },
  {
   "cell_type": "markdown",
   "metadata": {},
   "source": [
    "### 分析实验结果"
   ]
  },
  {
   "cell_type": "code",
   "execution_count": 13,
   "metadata": {},
   "outputs": [
    {
     "name": "stderr",
     "output_type": "stream",
     "text": [
      "100%|█████████████████████████████████████████████████████████████████████████████| 1210/1210 [00:05<00:00, 205.52it/s]\n"
     ]
    }
   ],
   "source": [
    "import pickle\n",
    "import os\n",
    "import pandas as pd\n",
    "from tqdm import tqdm\n",
    "\n",
    "\n",
    "fns = os.listdir('result')\n",
    "\n",
    "result = []\n",
    "for i in tqdm(range(len(fns))):\n",
    "    fn = fns[i]\n",
    "    with open(os.path.join('result', fn), 'rb') as f:\n",
    "        score = pickle.load(f)\n",
    "        \n",
    "    for k, v in score.items():\n",
    "        row = [fn, k] + v\n",
    "        result.append(row)\n",
    "\n",
    "result = pd.DataFrame(result, columns=['filename', 'models', 'roc', 'f1_score', 'precision', 'recall'])\n",
    "result.to_csv('result.csv', index=False)"
   ]
  },
  {
   "cell_type": "markdown",
   "metadata": {},
   "source": [
    "### 测试模型"
   ]
  },
  {
   "cell_type": "code",
   "execution_count": 35,
   "metadata": {},
   "outputs": [],
   "source": [
    "# 计算每个模型在所有文件上的指标平均值\n",
    "roc = result.groupby('models')['roc', 'f1_score', 'precision', 'recall'].apply(lambda x: x.mean())\n",
    "# 按ROC值排序\n",
    "roc = roc.sort_values(by='roc')"
   ]
  },
  {
   "cell_type": "markdown",
   "metadata": {},
   "source": [
    "### 比较模型指标\n",
    "\n",
    "**实验中使用了四种指标评估模型的检测效果：** \n",
    "* ROC: 基于ROC曲线计算得到的平均值  \n",
    "* f1_score: 2\\*precision\\*recall/(precision + recall)  \n",
    "* precision: 准确率  \n",
    "* recall: 召回率\n",
    "\n",
    "**结果分析:**\n",
    "* 从各项指标上看，效果最好的模型是PCA, 明显优于其他模型, 其次是HBOS、Isolation Forest和MCD  \n",
    "* 效果最差的模型是Average KNN， 较差的模型有One-class SVM、CBLOF、LOF等，这些模型差距较小  \n",
    "* 不同的指标具有一致性，即同一模型，各项指标都较高，或都较低\n"
   ]
  },
  {
   "cell_type": "code",
   "execution_count": 51,
   "metadata": {},
   "outputs": [
    {
     "data": {
      "text/plain": [
       "<matplotlib.axes._subplots.AxesSubplot at 0x1fa74455dc8>"
      ]
     },
     "execution_count": 51,
     "metadata": {},
     "output_type": "execute_result"
    },
    {
     "data": {
      "image/png": "[encoded data removed]",
      "text/plain": [
       "<Figure size 576x504 with 1 Axes>"
      ]
     },
     "metadata": {
      "needs_background": "light"
     },
     "output_type": "display_data"
    }
   ],
   "source": [
    "roc.plot.barh(figsize=(8, 7))"
   ]
  }
 ],
 "metadata": {
  "kernelspec": {
   "display_name": "Python 3",
   "language": "python",
   "name": "python3"
  },
  "language_info": {
   "codemirror_mode": {
    "name": "ipython",
    "version": 3
   },
   "file_extension": ".py",
   "mimetype": "text/x-python",
   "name": "python",
   "nbconvert_exporter": "python",
   "pygments_lexer": "ipython3",
   "version": "3.7.4"
  }
 },
 "nbformat": 4,
 "nbformat_minor": 4
}
